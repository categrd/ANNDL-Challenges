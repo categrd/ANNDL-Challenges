{
  "nbformat": 4,
  "nbformat_minor": 0,
  "metadata": {
    "colab": {
      "provenance": [],
      "gpuType": "T4",
      "collapsed_sections": [
        "Y1mKNz7A38Vk",
        "LW8pXrSnxEsK",
        "Q7vngWMoTj-c",
        "X6feu4xzM8Hq",
        "Wtjc2BDPUs3-",
        "xBfQ5HhkwHYz"
      ]
    },
    "kernelspec": {
      "name": "python3",
      "display_name": "Python 3"
    },
    "language_info": {
      "name": "python"
    },
    "accelerator": "GPU"
  },
  "cells": [
    {
      "cell_type": "markdown",
      "source": [
        "# AN2L Challenge: Homework 1\n",
        "**Gruppo**: cars\n",
        "\n",
        "**Membri**: Riccardo Storchi, Anna De Simone, Caterina Giardi, Sophie Barbera."
      ],
      "metadata": {
        "id": "aaZmHtEIgAUj"
      }
    },
    {
      "cell_type": "code",
      "source": [
        "# For installing keras-cv\n",
        "!pip install keras-cv tensorflow --upgrade"
      ],
      "metadata": {
        "colab": {
          "base_uri": "https://localhost:8080/"
        },
        "id": "Y2-yYUOr8Ukw",
        "outputId": "b996e715-a7d6-418e-d1a1-86525681888d"
      },
      "execution_count": null,
      "outputs": [
        {
          "output_type": "stream",
          "name": "stdout",
          "text": [
            "Collecting keras-cv\n",
            "  Downloading keras_cv-0.6.4-py3-none-any.whl (803 kB)\n",
            "\u001b[?25l     \u001b[90m━━━━━━━━━━━━━━━━━━━━━━━━━━━━━━━━━━━━━━━━\u001b[0m \u001b[32m0.0/803.1 kB\u001b[0m \u001b[31m?\u001b[0m eta \u001b[36m-:--:--\u001b[0m\r\u001b[2K     \u001b[91m━━━━━━━━━━━━━━━━━━\u001b[0m\u001b[90m╺\u001b[0m\u001b[90m━━━━━━━━━━━━━━━━━━━━━\u001b[0m \u001b[32m368.6/803.1 kB\u001b[0m \u001b[31m10.8 MB/s\u001b[0m eta \u001b[36m0:00:01\u001b[0m\r\u001b[2K     \u001b[90m━━━━━━━━━━━━━━━━━━━━━━━━━━━━━━━━━━━━━━━━\u001b[0m \u001b[32m803.1/803.1 kB\u001b[0m \u001b[31m15.1 MB/s\u001b[0m eta \u001b[36m0:00:00\u001b[0m\n",
            "\u001b[?25hRequirement already satisfied: tensorflow in /usr/local/lib/python3.10/dist-packages (2.14.0)\n",
            "Collecting tensorflow\n",
            "  Downloading tensorflow-2.15.0-cp310-cp310-manylinux_2_17_x86_64.manylinux2014_x86_64.whl (475.2 MB)\n",
            "\u001b[2K     \u001b[90m━━━━━━━━━━━━━━━━━━━━━━━━━━━━━━━━━━━━━━━━\u001b[0m \u001b[32m475.2/475.2 MB\u001b[0m \u001b[31m3.1 MB/s\u001b[0m eta \u001b[36m0:00:00\u001b[0m\n",
            "\u001b[?25hRequirement already satisfied: packaging in /usr/local/lib/python3.10/dist-packages (from keras-cv) (23.2)\n",
            "Requirement already satisfied: absl-py in /usr/local/lib/python3.10/dist-packages (from keras-cv) (1.4.0)\n",
            "Requirement already satisfied: regex in /usr/local/lib/python3.10/dist-packages (from keras-cv) (2023.6.3)\n",
            "Requirement already satisfied: tensorflow-datasets in /usr/local/lib/python3.10/dist-packages (from keras-cv) (4.9.3)\n",
            "Collecting keras-core (from keras-cv)\n",
            "  Downloading keras_core-0.1.7-py3-none-any.whl (950 kB)\n",
            "\u001b[2K     \u001b[90m━━━━━━━━━━━━━━━━━━━━━━━━━━━━━━━━━━━━━━━━\u001b[0m \u001b[32m950.8/950.8 kB\u001b[0m \u001b[31m53.6 MB/s\u001b[0m eta \u001b[36m0:00:00\u001b[0m\n",
            "\u001b[?25hRequirement already satisfied: astunparse>=1.6.0 in /usr/local/lib/python3.10/dist-packages (from tensorflow) (1.6.3)\n",
            "Requirement already satisfied: flatbuffers>=23.5.26 in /usr/local/lib/python3.10/dist-packages (from tensorflow) (23.5.26)\n",
            "Requirement already satisfied: gast!=0.5.0,!=0.5.1,!=0.5.2,>=0.2.1 in /usr/local/lib/python3.10/dist-packages (from tensorflow) (0.5.4)\n",
            "Requirement already satisfied: google-pasta>=0.1.1 in /usr/local/lib/python3.10/dist-packages (from tensorflow) (0.2.0)\n",
            "Requirement already satisfied: h5py>=2.9.0 in /usr/local/lib/python3.10/dist-packages (from tensorflow) (3.9.0)\n",
            "Requirement already satisfied: libclang>=13.0.0 in /usr/local/lib/python3.10/dist-packages (from tensorflow) (16.0.6)\n",
            "Requirement already satisfied: ml-dtypes~=0.2.0 in /usr/local/lib/python3.10/dist-packages (from tensorflow) (0.2.0)\n",
            "Requirement already satisfied: numpy<2.0.0,>=1.23.5 in /usr/local/lib/python3.10/dist-packages (from tensorflow) (1.23.5)\n",
            "Requirement already satisfied: opt-einsum>=2.3.2 in /usr/local/lib/python3.10/dist-packages (from tensorflow) (3.3.0)\n",
            "Requirement already satisfied: protobuf!=4.21.0,!=4.21.1,!=4.21.2,!=4.21.3,!=4.21.4,!=4.21.5,<5.0.0dev,>=3.20.3 in /usr/local/lib/python3.10/dist-packages (from tensorflow) (3.20.3)\n",
            "Requirement already satisfied: setuptools in /usr/local/lib/python3.10/dist-packages (from tensorflow) (67.7.2)\n",
            "Requirement already satisfied: six>=1.12.0 in /usr/local/lib/python3.10/dist-packages (from tensorflow) (1.16.0)\n",
            "Requirement already satisfied: termcolor>=1.1.0 in /usr/local/lib/python3.10/dist-packages (from tensorflow) (2.3.0)\n",
            "Requirement already satisfied: typing-extensions>=3.6.6 in /usr/local/lib/python3.10/dist-packages (from tensorflow) (4.5.0)\n",
            "Requirement already satisfied: wrapt<1.15,>=1.11.0 in /usr/local/lib/python3.10/dist-packages (from tensorflow) (1.14.1)\n",
            "Requirement already satisfied: tensorflow-io-gcs-filesystem>=0.23.1 in /usr/local/lib/python3.10/dist-packages (from tensorflow) (0.34.0)\n",
            "Requirement already satisfied: grpcio<2.0,>=1.24.3 in /usr/local/lib/python3.10/dist-packages (from tensorflow) (1.59.2)\n",
            "Collecting tensorboard<2.16,>=2.15 (from tensorflow)\n",
            "  Downloading tensorboard-2.15.1-py3-none-any.whl (5.5 MB)\n",
            "\u001b[2K     \u001b[90m━━━━━━━━━━━━━━━━━━━━━━━━━━━━━━━━━━━━━━━━\u001b[0m \u001b[32m5.5/5.5 MB\u001b[0m \u001b[31m38.0 MB/s\u001b[0m eta \u001b[36m0:00:00\u001b[0m\n",
            "\u001b[?25hCollecting tensorflow-estimator<2.16,>=2.15.0 (from tensorflow)\n",
            "  Downloading tensorflow_estimator-2.15.0-py2.py3-none-any.whl (441 kB)\n",
            "\u001b[2K     \u001b[90m━━━━━━━━━━━━━━━━━━━━━━━━━━━━━━━━━━━━━━━━\u001b[0m \u001b[32m442.0/442.0 kB\u001b[0m \u001b[31m39.0 MB/s\u001b[0m eta \u001b[36m0:00:00\u001b[0m\n",
            "\u001b[?25hCollecting keras<2.16,>=2.15.0 (from tensorflow)\n",
            "  Downloading keras-2.15.0-py3-none-any.whl (1.7 MB)\n",
            "\u001b[2K     \u001b[90m━━━━━━━━━━━━━━━━━━━━━━━━━━━━━━━━━━━━━━━━\u001b[0m \u001b[32m1.7/1.7 MB\u001b[0m \u001b[31m65.9 MB/s\u001b[0m eta \u001b[36m0:00:00\u001b[0m\n",
            "\u001b[?25hRequirement already satisfied: wheel<1.0,>=0.23.0 in /usr/local/lib/python3.10/dist-packages (from astunparse>=1.6.0->tensorflow) (0.41.3)\n",
            "Requirement already satisfied: google-auth<3,>=1.6.3 in /usr/local/lib/python3.10/dist-packages (from tensorboard<2.16,>=2.15->tensorflow) (2.17.3)\n",
            "Requirement already satisfied: google-auth-oauthlib<2,>=0.5 in /usr/local/lib/python3.10/dist-packages (from tensorboard<2.16,>=2.15->tensorflow) (1.0.0)\n",
            "Requirement already satisfied: markdown>=2.6.8 in /usr/local/lib/python3.10/dist-packages (from tensorboard<2.16,>=2.15->tensorflow) (3.5.1)\n",
            "Requirement already satisfied: requests<3,>=2.21.0 in /usr/local/lib/python3.10/dist-packages (from tensorboard<2.16,>=2.15->tensorflow) (2.31.0)\n",
            "Requirement already satisfied: tensorboard-data-server<0.8.0,>=0.7.0 in /usr/local/lib/python3.10/dist-packages (from tensorboard<2.16,>=2.15->tensorflow) (0.7.2)\n",
            "Requirement already satisfied: werkzeug>=1.0.1 in /usr/local/lib/python3.10/dist-packages (from tensorboard<2.16,>=2.15->tensorflow) (3.0.1)\n",
            "Requirement already satisfied: rich in /usr/local/lib/python3.10/dist-packages (from keras-core->keras-cv) (13.6.0)\n",
            "Collecting namex (from keras-core->keras-cv)\n",
            "  Downloading namex-0.0.7-py3-none-any.whl (5.8 kB)\n",
            "Requirement already satisfied: dm-tree in /usr/local/lib/python3.10/dist-packages (from keras-core->keras-cv) (0.1.8)\n",
            "Requirement already satisfied: array-record in /usr/local/lib/python3.10/dist-packages (from tensorflow-datasets->keras-cv) (0.5.0)\n",
            "Requirement already satisfied: click in /usr/local/lib/python3.10/dist-packages (from tensorflow-datasets->keras-cv) (8.1.7)\n",
            "Requirement already satisfied: etils[enp,epath,etree]>=0.9.0 in /usr/local/lib/python3.10/dist-packages (from tensorflow-datasets->keras-cv) (1.5.2)\n",
            "Requirement already satisfied: promise in /usr/local/lib/python3.10/dist-packages (from tensorflow-datasets->keras-cv) (2.3)\n",
            "Requirement already satisfied: psutil in /usr/local/lib/python3.10/dist-packages (from tensorflow-datasets->keras-cv) (5.9.5)\n",
            "Requirement already satisfied: tensorflow-metadata in /usr/local/lib/python3.10/dist-packages (from tensorflow-datasets->keras-cv) (1.14.0)\n",
            "Requirement already satisfied: toml in /usr/local/lib/python3.10/dist-packages (from tensorflow-datasets->keras-cv) (0.10.2)\n",
            "Requirement already satisfied: tqdm in /usr/local/lib/python3.10/dist-packages (from tensorflow-datasets->keras-cv) (4.66.1)\n",
            "Requirement already satisfied: fsspec in /usr/local/lib/python3.10/dist-packages (from etils[enp,epath,etree]>=0.9.0->tensorflow-datasets->keras-cv) (2023.6.0)\n",
            "Requirement already satisfied: importlib_resources in /usr/local/lib/python3.10/dist-packages (from etils[enp,epath,etree]>=0.9.0->tensorflow-datasets->keras-cv) (6.1.1)\n",
            "Requirement already satisfied: zipp in /usr/local/lib/python3.10/dist-packages (from etils[enp,epath,etree]>=0.9.0->tensorflow-datasets->keras-cv) (3.17.0)\n",
            "Requirement already satisfied: cachetools<6.0,>=2.0.0 in /usr/local/lib/python3.10/dist-packages (from google-auth<3,>=1.6.3->tensorboard<2.16,>=2.15->tensorflow) (5.3.2)\n",
            "Requirement already satisfied: pyasn1-modules>=0.2.1 in /usr/local/lib/python3.10/dist-packages (from google-auth<3,>=1.6.3->tensorboard<2.16,>=2.15->tensorflow) (0.3.0)\n",
            "Requirement already satisfied: rsa<5,>=3.1.4 in /usr/local/lib/python3.10/dist-packages (from google-auth<3,>=1.6.3->tensorboard<2.16,>=2.15->tensorflow) (4.9)\n",
            "Requirement already satisfied: requests-oauthlib>=0.7.0 in /usr/local/lib/python3.10/dist-packages (from google-auth-oauthlib<2,>=0.5->tensorboard<2.16,>=2.15->tensorflow) (1.3.1)\n",
            "Requirement already satisfied: charset-normalizer<4,>=2 in /usr/local/lib/python3.10/dist-packages (from requests<3,>=2.21.0->tensorboard<2.16,>=2.15->tensorflow) (3.3.2)\n",
            "Requirement already satisfied: idna<4,>=2.5 in /usr/local/lib/python3.10/dist-packages (from requests<3,>=2.21.0->tensorboard<2.16,>=2.15->tensorflow) (3.4)\n",
            "Requirement already satisfied: urllib3<3,>=1.21.1 in /usr/local/lib/python3.10/dist-packages (from requests<3,>=2.21.0->tensorboard<2.16,>=2.15->tensorflow) (2.0.7)\n",
            "Requirement already satisfied: certifi>=2017.4.17 in /usr/local/lib/python3.10/dist-packages (from requests<3,>=2.21.0->tensorboard<2.16,>=2.15->tensorflow) (2023.7.22)\n",
            "Requirement already satisfied: MarkupSafe>=2.1.1 in /usr/local/lib/python3.10/dist-packages (from werkzeug>=1.0.1->tensorboard<2.16,>=2.15->tensorflow) (2.1.3)\n",
            "Requirement already satisfied: markdown-it-py>=2.2.0 in /usr/local/lib/python3.10/dist-packages (from rich->keras-core->keras-cv) (3.0.0)\n",
            "Requirement already satisfied: pygments<3.0.0,>=2.13.0 in /usr/local/lib/python3.10/dist-packages (from rich->keras-core->keras-cv) (2.16.1)\n",
            "Requirement already satisfied: googleapis-common-protos<2,>=1.52.0 in /usr/local/lib/python3.10/dist-packages (from tensorflow-metadata->tensorflow-datasets->keras-cv) (1.61.0)\n",
            "Requirement already satisfied: mdurl~=0.1 in /usr/local/lib/python3.10/dist-packages (from markdown-it-py>=2.2.0->rich->keras-core->keras-cv) (0.1.2)\n",
            "Requirement already satisfied: pyasn1<0.6.0,>=0.4.6 in /usr/local/lib/python3.10/dist-packages (from pyasn1-modules>=0.2.1->google-auth<3,>=1.6.3->tensorboard<2.16,>=2.15->tensorflow) (0.5.0)\n",
            "Requirement already satisfied: oauthlib>=3.0.0 in /usr/local/lib/python3.10/dist-packages (from requests-oauthlib>=0.7.0->google-auth-oauthlib<2,>=0.5->tensorboard<2.16,>=2.15->tensorflow) (3.2.2)\n",
            "Installing collected packages: namex, tensorflow-estimator, keras, keras-core, tensorboard, tensorflow, keras-cv\n",
            "  Attempting uninstall: tensorflow-estimator\n",
            "    Found existing installation: tensorflow-estimator 2.14.0\n",
            "    Uninstalling tensorflow-estimator-2.14.0:\n",
            "      Successfully uninstalled tensorflow-estimator-2.14.0\n",
            "  Attempting uninstall: keras\n",
            "    Found existing installation: keras 2.14.0\n",
            "    Uninstalling keras-2.14.0:\n",
            "      Successfully uninstalled keras-2.14.0\n",
            "  Attempting uninstall: tensorboard\n",
            "    Found existing installation: tensorboard 2.14.1\n",
            "    Uninstalling tensorboard-2.14.1:\n",
            "      Successfully uninstalled tensorboard-2.14.1\n",
            "  Attempting uninstall: tensorflow\n",
            "    Found existing installation: tensorflow 2.14.0\n",
            "    Uninstalling tensorflow-2.14.0:\n",
            "      Successfully uninstalled tensorflow-2.14.0\n",
            "Successfully installed keras-2.15.0 keras-core-0.1.7 keras-cv-0.6.4 namex-0.0.7 tensorboard-2.15.1 tensorflow-2.15.0 tensorflow-estimator-2.15.0\n"
          ]
        }
      ]
    },
    {
      "cell_type": "markdown",
      "source": [
        "##Library & Drive"
      ],
      "metadata": {
        "id": "Y1mKNz7A38Vk"
      }
    },
    {
      "cell_type": "code",
      "source": [
        "from google.colab import drive\n",
        "drive.mount('/gdrive')\n",
        "%cd /gdrive/My Drive/ANN\n",
        "\n",
        "# Fix randomness and hide warnings\n",
        "seed = 42\n",
        "\n",
        "import warnings\n",
        "warnings.simplefilter(action='ignore', category=FutureWarning)\n",
        "warnings.simplefilter(action='ignore', category=Warning)\n",
        "\n",
        "import numpy as np\n",
        "np.random.seed(seed)\n",
        "\n",
        "import logging\n",
        "\n",
        "import random\n",
        "random.seed(seed)\n",
        "\n",
        "# Import tensorflow\n",
        "import tensorflow as tf\n",
        "print(\"Num GPU:\", len(tf.config.list_physical_devices('GPU')))\n",
        "import keras_cv\n",
        "import keras_core as keras\n",
        "from tensorflow import keras as tfk\n",
        "from tensorflow.keras import layers as tfkl\n",
        "from tensorflow.keras import models\n",
        "from tensorflow.keras.optimizers import Adam, AdamW\n",
        "from tensorflow.keras.callbacks import ModelCheckpoint, EarlyStopping, TensorBoard, ReduceLROnPlateau\n",
        "from tensorflow.keras.applications.mobilenet import preprocess_input\n",
        "from tensorflow.keras import Sequential\n",
        "from tensorflow.data import Dataset\n",
        "\n",
        "#aggiunto, non presente in challenge6\n",
        "from tensorflow.keras import layers, models\n",
        "from tensorflow.keras import Sequential\n",
        "from tensorflow.keras.layers import Conv2D, MaxPooling2D, Flatten, Dense\n",
        "\n",
        "tf.autograph.set_verbosity(0)\n",
        "tf.get_logger().setLevel(logging.ERROR)\n",
        "tf.compat.v1.logging.set_verbosity(tf.compat.v1.logging.ERROR)\n",
        "tf.random.set_seed(seed)\n",
        "tf.compat.v1.set_random_seed(seed)\n",
        "print(tf.__version__)\n",
        "\n",
        "#from torchvision.utils import save_image\n",
        "# tf.compat.v1.disable_eager_execution()\n",
        "\n",
        "# Import other libraries\n",
        "import cv2\n",
        "import matplotlib.pyplot as plt\n",
        "import seaborn as sns\n",
        "from sklearn.model_selection import train_test_split\n",
        "from sklearn.metrics import accuracy_score, f1_score, precision_score, recall_score, confusion_matrix\n",
        "\n",
        "\n",
        "device_name = tf.test.gpu_device_name()\n",
        "if device_name != '/device:GPU:0':\n",
        "  raise SystemError('GPU device not found')\n",
        "print('Found GPU at: {}'.format(device_name))\n"
      ],
      "metadata": {
        "id": "sooplQE54AKB"
      },
      "execution_count": null,
      "outputs": []
    },
    {
      "cell_type": "markdown",
      "source": [
        "##Process data"
      ],
      "metadata": {
        "id": "IhmBvP5a4Evf"
      }
    },
    {
      "cell_type": "code",
      "source": [
        "#----------UNZIPPING------------------------------------------------------------\n",
        "unzip = False\n",
        "if unzip:\n",
        "  !unzip /gdrive/MyDrive/ANN/Homework1/public_data.zip\n",
        "\n",
        "\n",
        "\n",
        "dataset = np.load('/gdrive/MyDrive/ANN/public_data.npz', allow_pickle=True)\n",
        "lst = dataset.files\n",
        "#for item in lst:\n",
        "#    print(dataset[item])\n",
        "#print(dataset['data'].shape)\n",
        "print(type(dataset))\n",
        "\n",
        "X = dataset['data']\n",
        "\n",
        "#for i in range(X.shape[0]):\n",
        "#  X[i] = (X[i] / 255).astype(np.float32)\n",
        "\n",
        "labels = dataset['labels']\n",
        "# unique_labels = np.unique(labels, return_counts=True)\n",
        "# print(unique_labels)\n",
        "y = [1 if i == \"unhealthy\" else 0 for i in labels ]\n",
        "y = np.array(y)\n",
        "print(X.shape)\n",
        "print(y.shape)\n",
        "\n",
        "#clutter\n",
        "shrek = X[58]\n",
        "#print(y[58])\n",
        "trololo = X[338]\n",
        "#print(y[338])\n",
        "\n",
        "\n",
        "columns = []\n",
        "\n",
        "for i in range (X.shape[0]):\n",
        "  difference1 = cv2.subtract(X[i], shrek)\n",
        "  difference2 = cv2.subtract(X[i], trololo)\n",
        "  result = not (np.any(difference1) and np.any(difference2))\n",
        "  if result is True:\n",
        "      columns.append(i)\n",
        "\n",
        "# print(columns, \"\\n\", len(columns))\n",
        "X = np.delete(X, (columns), axis=0)\n",
        "y = np.delete(y, (columns), axis=0)\n",
        "print(\"After decluttering:\")\n",
        "print(X.shape)\n",
        "print(y.shape)\n",
        "\n",
        "\n",
        "input_shape = X[0].shape\n",
        "output_shape = 1\n",
        "\n",
        "\n",
        "# images, labels = zip(*[(X[i], y[i]) for i in range(len(y)) if all(not np.array_equal(X[i], X[j]) for j in range(i))])\n",
        "\n",
        "l=[]\n",
        "images, indexes, count = np.unique(X, return_index=True, return_inverse=False, return_counts=True, axis=0)\n",
        "for i in range(images.shape[0]):\n",
        "  l.append(y[indexes[i]])\n",
        "print('sorting shapes')\n",
        "print(len(l))\n",
        "print(images.shape)\n",
        "\n",
        "# def augment(data, labels):\n",
        "#   preprocessing = tf.keras.Sequential([\n",
        "#           tfkl.RandomTranslation(0.2,0.2),\n",
        "#           tfkl.RandomZoom(0.2),\n",
        "#           tfkl.RandomRotation(0.2),\n",
        "#           tfkl.RandomFlip(\"horizontal_and_vertical\")\n",
        "#       ])\n",
        "#   aug_images = [preprocessing(X[i]) for i in range(X.shape[0])]\n",
        "#   print(len(aug_images))\n",
        "#   data = np.concatenate((data, aug_images), axis=0)\n",
        "#   labels = np.concatenate((labels, labels), axis=0)\n",
        "#   return aug_images, labels\n",
        "\n",
        "\n",
        "X = np.array(images)\n",
        "y = np.array(l)\n",
        "print(y.shape)\n",
        "print(X.shape)\n",
        "\n",
        "l, counts = np.unique(y, return_counts=True)\n",
        "print(l, counts)\n",
        "\n",
        "\n",
        "\n",
        "#print(\"After removing duplicates:\")\n",
        "#print(X.shape)\n",
        "#print(y.shape)\n",
        "#df = [[X], y]\n",
        "#np.savez('/gdrive/MyDrive/ANN/data', df)"
      ],
      "metadata": {
        "id": "EPKkqbyf4GUJ"
      },
      "execution_count": null,
      "outputs": []
    },
    {
      "cell_type": "code",
      "source": [
        "#---------DATA SPLITTING--------------------------------------------------------\n",
        "\n",
        "\n",
        "#X = X/255\n",
        "\n",
        "# X_train_val, X_test, y_train_val, y_test = train_test_split(X, y, random_state=seed, test_size=0.10, stratify=y)\n",
        "X_train, X_val, y_train, y_val = train_test_split(X, y, random_state=seed, test_size=0.1, stratify=y)\n",
        "\n",
        "y_train = np.array(y_train)\n",
        "y_val = np.array(y_val)\n",
        "# y_test = np.array(y_test)\n",
        "# Print shapes of the datasets\n",
        "print(f\"X_train shape: {X_train.shape}, y_train shape: {y_train.shape}\")\n",
        "print(f\"X_val shape: {X_val.shape}, y_val shape: {y_val.shape}\")\n",
        "# print(f\"X_test shape: {X_test.shape}, y_test shape: {y_test.shape}\")\n",
        "\n",
        "print(np.unique(y_train, return_counts=True))\n",
        "print(np.unique(y_val, return_counts=True))\n",
        "# print(np.unique(y_test, return_counts=True))\n",
        "\n",
        "# Fixing y\n",
        "y_train_B = np.array([[0,1] if label==1 else [1,0] for label in y_train])\n",
        "# y_test_B = np.array([[0,1] if label==1 else [1,0] for label in y_test])\n",
        "y_val_B = np.array([[0,1] if label==1 else [1,0] for label in y_val])\n",
        "y_B = np.array([[0,1] if label==1 else [1,0] for label in y])\n",
        "\n",
        "# print(y_train[20])\n",
        "# save_image(tf.cast(X_train[20]*255, tf.int32), 'unhealthy.png')\n",
        "# png_image = tf.image.encode_png(tf.cast(X_train[20] * 255, tf.uint8))\n",
        "# with tf.io.gfile.GFile('unhealthy.png', 'wb') as file:\n",
        "#     file.write(png_image.numpy())\n",
        "\n",
        "# Display the saved image\n",
        "# saved_image = plt.imread('unhealthy.png')\n",
        "# plt.imshow(saved_image)\n",
        "# plt.show()"
      ],
      "metadata": {
        "id": "v-90SzV64H7t"
      },
      "execution_count": null,
      "outputs": []
    },
    {
      "cell_type": "code",
      "source": [
        "#prefetch\n",
        "train_ds = tf.data.Dataset.from_tensor_slices((X_train, y_train))\n",
        "\n",
        "# Define the number of batches to prefetch\n",
        "buffer_size = tf.data.experimental.AUTOTUNE\n",
        "\n",
        "# Apply prefetch to your dataset\n",
        "train_ds = train_ds.prefetch(buffer_size)\n",
        "\n"
      ],
      "metadata": {
        "id": "qZQTGfmmP2qG"
      },
      "execution_count": null,
      "outputs": []
    },
    {
      "cell_type": "markdown",
      "source": [
        "#Augmentation"
      ],
      "metadata": {
        "id": "QWfZXxnL8u2P"
      }
    },
    {
      "cell_type": "markdown",
      "source": [
        "##CutMix"
      ],
      "metadata": {
        "id": "pUswoUkk1qWP"
      }
    },
    {
      "cell_type": "code",
      "source": [
        "#---------CUTMIX----------------------------------------------------------------\n",
        "IMG_SIZE=96\n",
        "\n",
        "def sample_beta_distribution(size, concentration_0=0.2, concentration_1=0.2):\n",
        "    gamma_1_sample = tf.random.gamma(shape=[size], alpha=concentration_1)\n",
        "    gamma_2_sample = tf.random.gamma(shape=[size], alpha=concentration_0)\n",
        "    return gamma_1_sample / (gamma_1_sample + gamma_2_sample)\n",
        "\n",
        "\n",
        "@tf.function\n",
        "def get_box(lambda_value):\n",
        "    cut_rat = tf.math.sqrt(1.0 - lambda_value)\n",
        "\n",
        "    cut_w = IMG_SIZE * cut_rat  # rw\n",
        "    cut_w = tf.cast(cut_w, tf.int32)\n",
        "\n",
        "    cut_h = IMG_SIZE * cut_rat  # rh\n",
        "    cut_h = tf.cast(cut_h, tf.int32)\n",
        "\n",
        "    cut_x = tf.random.uniform((1,), minval=0, maxval=IMG_SIZE, dtype=tf.int32)  # rx\n",
        "    cut_y = tf.random.uniform((1,), minval=0, maxval=IMG_SIZE, dtype=tf.int32)  # ry\n",
        "\n",
        "    boundaryx1 = tf.clip_by_value(cut_x[0] - cut_w // 2, 0, IMG_SIZE)\n",
        "    boundaryy1 = tf.clip_by_value(cut_y[0] - cut_h // 2, 0, IMG_SIZE)\n",
        "    bbx2 = tf.clip_by_value(cut_x[0] + cut_w // 2, 0, IMG_SIZE)\n",
        "    bby2 = tf.clip_by_value(cut_y[0] + cut_h // 2, 0, IMG_SIZE)\n",
        "\n",
        "    target_h = bby2 - boundaryy1\n",
        "    if target_h == 0:\n",
        "        target_h += 1\n",
        "\n",
        "    target_w = bbx2 - boundaryx1\n",
        "    if target_w == 0:\n",
        "        target_w += 1\n",
        "\n",
        "    return boundaryx1, boundaryy1, target_h, target_w\n",
        "\n",
        "\n",
        "@tf.function\n",
        "def cutmix(image1, label1, image2, label2):\n",
        "    alpha = [0.25]\n",
        "    beta = [0.25]\n",
        "\n",
        "    # Get a sample from the Beta distribution\n",
        "    lambda_value = sample_beta_distribution(1, alpha, beta)\n",
        "\n",
        "    # Define Lambda\n",
        "    lambda_value = lambda_value[0][0]\n",
        "\n",
        "    # Get the bounding box offsets, heights and widths\n",
        "    boundaryx1, boundaryy1, target_h, target_w = get_box(lambda_value)\n",
        "\n",
        "    # Get a patch from the second image (`image2`)\n",
        "    crop2 = tf.image.crop_to_bounding_box(\n",
        "        image2, boundaryy1, boundaryx1, target_h, target_w\n",
        "    )\n",
        "    # Pad the `image2` patch (`crop2`) with the same offset\n",
        "    image2 = tf.image.pad_to_bounding_box(\n",
        "        crop2, boundaryy1, boundaryx1, IMG_SIZE, IMG_SIZE\n",
        "    )\n",
        "    # Get a patch from the first image (`image1`)\n",
        "    crop1 = tf.image.crop_to_bounding_box(\n",
        "        image1, boundaryy1, boundaryx1, target_h, target_w\n",
        "    )\n",
        "    # Pad the `image1` patch (`crop1`) with the same offset\n",
        "    img1 = tf.image.pad_to_bounding_box(\n",
        "        crop1, boundaryy1, boundaryx1, IMG_SIZE, IMG_SIZE\n",
        "    )\n",
        "\n",
        "    # Modify the first image by subtracting the patch from `image1`\n",
        "    # (before applying the `image2` patch)\n",
        "    image1 = image1 - img1\n",
        "    # Add the modified `image1` and `image2`  together to get the CutMix image\n",
        "    image = image1 + image2\n",
        "\n",
        "    # Adjust Lambda in accordance to the pixel ration\n",
        "    lambda_value = 1 - (target_w * target_h) / (IMG_SIZE * IMG_SIZE)\n",
        "    lambda_value = tf.cast(lambda_value, tf.float32)\n",
        "\n",
        "    # Combine the labels of both images\n",
        "    label = lambda_value * label1 + (1 - lambda_value) * label2\n",
        "    return image, label\n",
        "\n",
        "\n",
        "y_train_B = y_train_B.astype(np.float32)\n",
        "\n",
        "augmented_img = []\n",
        "augmented_l = []\n",
        "for i in range(int(len(y_train)/90)):\n",
        "  for j in range(i+1,int (len(y_train)/90)):\n",
        "#for i in range(len(y_train)):\n",
        " # for j in range(i+1,len(y_train)):\n",
        "    #if (y_train[i]==y_train[j]) :         #same label\n",
        "      # Apply CutMix\n",
        "      img, l = cutmix(X_train[i], y_train_B[i], X_train[j], y_train_B[i])\n",
        "      augmented_l.append(l)\n",
        "      augmented_img.append(img)\n",
        "\n",
        "\n",
        "\n",
        "\n",
        "augmented_img=np.array(augmented_img)\n",
        "augmented_l=np.array(augmented_l)\n",
        "\n",
        "print(augmented_img.shape)\n",
        "print(len(augmented_l))\n",
        "y_tmp = [1 if np.array_equal(i, [0, 1]) else 0 for i in augmented_l]\n",
        "#y_tmp = [1 if i==[0, 1] else 0 for i in augmented_l]\n",
        "print(X_train.shape)\n",
        "print(len(y_tmp))\n",
        "X_train = np.concatenate((X_train, augmented_img), axis=0)\n",
        "y_train = np.concatenate((y_train, y_tmp), axis=0)\n",
        "print(X_train.shape)\n",
        "print(y_train.shape)\n",
        "import random\n",
        "count = 0\n",
        "\n",
        "y_train_B = np.concatenate((y_train_B, augmented_l), axis=0)\n",
        "\n",
        "\n",
        "for i in range(augmented_img.shape[0]):\n",
        "  if count > 5:\n",
        "    break\n",
        "  rand = random.randint(0,augmented_img.shape[0])\n",
        "  plt.imshow(augmented_img[rand]/255)\n",
        "  plt.title(augmented_l[rand])\n",
        "  count = count + 1\n",
        "  plt.show()\n",
        "\n",
        "\n",
        "\n",
        "#smote per bilanciare il dataset\n"
      ],
      "metadata": {
        "colab": {
          "base_uri": "https://localhost:8080/",
          "height": 1000
        },
        "id": "y3aEhBz_9Avh",
        "outputId": "de7d819e-f16e-4c6e-b6f5-d28fe84a8883"
      },
      "execution_count": null,
      "outputs": [
        {
          "output_type": "stream",
          "name": "stdout",
          "text": [
            "(1128, 96, 96, 3)\n",
            "1128\n",
            "(4365, 96, 96, 3)\n",
            "1128\n",
            "(5493, 96, 96, 3)\n",
            "(5493,)\n"
          ]
        },
        {
          "output_type": "display_data",
          "data": {
            "text/plain": [
              "<Figure size 640x480 with 1 Axes>"
            ],
            "image/png": "[encoded data removed]"
          },
          "metadata": {}
        },
        {
          "output_type": "display_data",
          "data": {
            "text/plain": [
              "<Figure size 640x480 with 1 Axes>"
            ],
            "image/png": "[encoded data removed]"
          },
          "metadata": {}
        },
        {
          "output_type": "display_data",
          "data": {
            "text/plain": [
              "<Figure size 640x480 with 1 Axes>"
            ],
            "image/png": "[encoded data removed]"
          },
          "metadata": {}
        },
        {
          "output_type": "display_data",
          "data": {
            "text/plain": [
              "<Figure size 640x480 with 1 Axes>"
            ],
            "image/png": "[encoded data removed]"
          },
          "metadata": {}
        },
        {
          "output_type": "display_data",
          "data": {
            "text/plain": [
              "<Figure size 640x480 with 1 Axes>"
            ],
            "image/png": "[encoded data removed]"
          },
          "metadata": {}
        },
        {
          "output_type": "display_data",
          "data": {
            "text/plain": [
              "<Figure size 640x480 with 1 Axes>"
            ],
            "image/png": "[encoded data removed]"
          },
          "metadata": {}
        }
      ]
    },
    {
      "cell_type": "markdown",
      "source": [
        "###augmenter"
      ],
      "metadata": {
        "id": "oqB1Px15vGDk"
      }
    },
    {
      "cell_type": "code",
      "source": [
        "augmenter = keras_cv.layers.Augmenter(\n",
        "    [\n",
        "        #keras_cv.layers.RandomFlip(),\n",
        "        #keras_cv.layers.RandomSharpness(0.2, value_range=(0, 255)),\n",
        "        #keras_cv.layers.GridMask(),\n",
        "        #keras_cv.layers.RandAugment(value_range=(0, 255)),\n",
        "        #keras_cv.layers.CutMix(),\n",
        "        keras_cv.layers.MixUp(),\n",
        "        keras_cv.layers.RandomFlip(),\n",
        "        keras_cv.layers.GridMask(),\n",
        "        keras_cv.layers.RandAugment(value_range=(0, 255)),\n",
        "        keras_cv.layers.CutMix(),\n",
        "    ],\n",
        ")\n",
        "\n",
        "def preprocess_data(images, labels, augment=False):\n",
        "    inputs = {\"images\": images, \"labels\": labels}\n",
        "    outputs = inputs\n",
        "    if augment:\n",
        "        outputs = augmenter(outputs)\n",
        "    return outputs['images'], outputs['labels']\n",
        "\n",
        "train_dataset = Dataset.from_tensor_slices((X_train, y_train_B))\n",
        "val_dataset = Dataset.from_tensor_slices((X_val, y_val_B))\n",
        "\n",
        "train_dataset = train_dataset.batch(32).map(\n",
        "    lambda x, y: preprocess_data(x, y, augment=True),\n",
        "        num_parallel_calls=tf.data.AUTOTUNE).prefetch(\n",
        "            tf.data.AUTOTUNE)\n",
        "val_dataset = val_dataset.batch(32).map(\n",
        "    preprocess_data, num_parallel_calls=tf.data.AUTOTUNE).prefetch(\n",
        "        tf.data.AUTOTUNE)"
      ],
      "metadata": {
        "id": "_LGeayUMsFLM"
      },
      "execution_count": null,
      "outputs": []
    },
    {
      "cell_type": "markdown",
      "source": [
        "#try"
      ],
      "metadata": {
        "id": "LW8pXrSnxEsK"
      }
    },
    {
      "cell_type": "code",
      "source": [
        "# Define your CNN binary classifier model\n",
        "#RICORDA: mettila a false che non si deve trainare LA BATCH NORMALIZATION ------------------\n",
        "\n",
        "\n",
        "input_shape =  X_train[0].shape\n",
        "cnn = tfk.applications.EfficientNetV2B2(\n",
        "    include_top=False,\n",
        "    weights=\"imagenet\",\n",
        "  #  input_shape=input_shape,\n",
        "    include_preprocessing=True,\n",
        "    )\n",
        "cnn.trainable = False\n",
        "print(cnn.name)\n",
        "print(input_shape)\n",
        "\n",
        "\n",
        "#data augmentation\n",
        "data_augmentation = models.Sequential([\n",
        "      tfkl.RandomTranslation(0.2,0.2),\n",
        "      tfkl.RandomRotation(0.2),\n",
        "      tfkl.RandomZoom(0.2),\n",
        "      #tfkl.RandomZoom('horizontal'),\n",
        "      #tfkl.RandomZoom('vertical')\n",
        "])\n",
        "#preprocessing = tf.keras.applications.preprocess_input\n",
        "\n",
        "model2 = models.Sequential([\n",
        "    tfk.Input(shape=input_shape),\n",
        "    data_augmentation,\n",
        "    #tfkl.Lambda(preprocessing),\n",
        "    cnn,\n",
        "    tfkl.Flatten(),\n",
        "    #layers.GlobalAveragePooling2D(), #dopo non ci vanno dense o ci va sol quello finale di classificaz (1)\n",
        "    layers.Dense(128, activation='softmax'),\n",
        "    layers.Dropout(0.3),\n",
        "    layers.Dense(128, activation='softmax'),\n",
        "    layers.Dense(1, activation='softmax')  # Binary classification, so use a sigmoid activation\n",
        "])\n",
        "\n",
        "callbacks = [\n",
        "    EarlyStopping(monitor='val_loss', patience=20)\n",
        "]\n",
        "\n",
        "\n",
        "# Compile the model\n",
        "model2.compile(optimizer='adam',\n",
        "              loss='categorical_crossentropy',  # Binary cross-entropy for binary classification\n",
        "              metrics=['accuracy'])\n",
        "model2.build(input_shape)\n",
        "model2.summary()\n",
        "\n",
        "model2.fit(X_train, y_train, epochs=100, callbacks=callbacks, validation_data=(X_val, y_val))"
      ],
      "metadata": {
        "colab": {
          "base_uri": "https://localhost:8080/"
        },
        "id": "GY6vwfIsxF4U",
        "outputId": "1e6b18be-2ad9-44f0-ebb4-0310dfbfc7a5"
      },
      "execution_count": null,
      "outputs": [
        {
          "output_type": "error",
          "ename": "NameError",
          "evalue": "ignored",
          "traceback": [
            "\u001b[0;31m---------------------------------------------------------------------------\u001b[0m",
            "\u001b[0;31mNameError\u001b[0m                                 Traceback (most recent call last)",
            "\u001b[0;32m<ipython-input-7-b2698e0b5186>\u001b[0m in \u001b[0;36m<cell line: 6>\u001b[0;34m()\u001b[0m\n\u001b[1;32m      4\u001b[0m \u001b[0;34m\u001b[0m\u001b[0m\n\u001b[1;32m      5\u001b[0m \u001b[0minput_shape\u001b[0m \u001b[0;34m=\u001b[0m  \u001b[0mX_train\u001b[0m\u001b[0;34m[\u001b[0m\u001b[0;36m0\u001b[0m\u001b[0;34m]\u001b[0m\u001b[0;34m.\u001b[0m\u001b[0mshape\u001b[0m\u001b[0;34m\u001b[0m\u001b[0;34m\u001b[0m\u001b[0m\n\u001b[0;32m----> 6\u001b[0;31m cnn = tfk.applications.EfficientNetV2B2(\n\u001b[0m\u001b[1;32m      7\u001b[0m     \u001b[0minclude_top\u001b[0m\u001b[0;34m=\u001b[0m\u001b[0;32mFalse\u001b[0m\u001b[0;34m,\u001b[0m\u001b[0;34m\u001b[0m\u001b[0;34m\u001b[0m\u001b[0m\n\u001b[1;32m      8\u001b[0m     \u001b[0mweights\u001b[0m\u001b[0;34m=\u001b[0m\u001b[0;34m\"imagenet\"\u001b[0m\u001b[0;34m,\u001b[0m\u001b[0;34m\u001b[0m\u001b[0;34m\u001b[0m\u001b[0m\n",
            "\u001b[0;31mNameError\u001b[0m: name 'tfk' is not defined"
          ]
        }
      ]
    },
    {
      "cell_type": "markdown",
      "source": [],
      "metadata": {
        "id": "5hdXdUyQ3j4y"
      }
    },
    {
      "cell_type": "markdown",
      "source": [
        "#EfficientNetLARGE"
      ],
      "metadata": {
        "id": "3jSh5ql8GuhG"
      }
    },
    {
      "cell_type": "code",
      "source": [
        "input_shape =  X_train[0].shape\n",
        "cnn = tfk.applications.EfficientNetV2M(\n",
        "    include_top=False,\n",
        "    weights=\"imagenet\",\n",
        "  #  input_shape=input_shape,\n",
        "    include_preprocessing=True,\n",
        "    )\n",
        "cnn.trainable = False\n",
        "print(cnn.name)\n",
        "print(input_shape)\n",
        "\n",
        "#data augmentation\n",
        "data_augmentation = models.Sequential([\n",
        "      tfkl.RandomTranslation(0.2,0.2),\n",
        "      tfkl.RandomRotation(0.2),\n",
        "      tfkl.RandomZoom(0.2)\n",
        "])\n",
        "\n",
        "\n",
        "modello = models.Sequential([\n",
        "      tfk.Input(shape=input_shape),\n",
        "      #data_augmentation,\n",
        "      cnn,\n",
        "      tfkl.GlobalAveragePooling2D(),\n",
        "      #tfkl.Dropout(0.2),\n",
        "      tfkl.Dense(2, activation='softmax')\n",
        "    ])\n",
        "\n",
        "modello.compile(optimizer=Adam(learning_rate=0.001),\n",
        "              loss='categorical_crossentropy',\n",
        "              metrics=['accuracy'])\n",
        "callbacks = [\n",
        "    EarlyStopping(monitor='val_loss', patience=20),\n",
        "\n",
        "]\n",
        "\n",
        "modello.fit(train_dataset, epochs=200, callbacks=callbacks, validation_data=val_dataset)\n",
        "modello.save('/gdrive/My Drive/ModelloEfficientnetM_AUG')"
      ],
      "metadata": {
        "colab": {
          "base_uri": "https://localhost:8080/",
          "height": 245
        },
        "id": "SwxWM-c3GyKk",
        "outputId": "5c1dd29e-aeb1-4467-cc85-2cde40e3d405"
      },
      "execution_count": null,
      "outputs": [
        {
          "output_type": "error",
          "ename": "NameError",
          "evalue": "ignored",
          "traceback": [
            "\u001b[0;31m---------------------------------------------------------------------------\u001b[0m",
            "\u001b[0;31mNameError\u001b[0m                                 Traceback (most recent call last)",
            "\u001b[0;32m<ipython-input-8-2bf848b00003>\u001b[0m in \u001b[0;36m<cell line: 2>\u001b[0;34m()\u001b[0m\n\u001b[1;32m      1\u001b[0m \u001b[0minput_shape\u001b[0m \u001b[0;34m=\u001b[0m  \u001b[0mX_train\u001b[0m\u001b[0;34m[\u001b[0m\u001b[0;36m0\u001b[0m\u001b[0;34m]\u001b[0m\u001b[0;34m.\u001b[0m\u001b[0mshape\u001b[0m\u001b[0;34m\u001b[0m\u001b[0;34m\u001b[0m\u001b[0m\n\u001b[0;32m----> 2\u001b[0;31m cnn = tfk.applications.EfficientNetV2M(\n\u001b[0m\u001b[1;32m      3\u001b[0m     \u001b[0minclude_top\u001b[0m\u001b[0;34m=\u001b[0m\u001b[0;32mFalse\u001b[0m\u001b[0;34m,\u001b[0m\u001b[0;34m\u001b[0m\u001b[0;34m\u001b[0m\u001b[0m\n\u001b[1;32m      4\u001b[0m     \u001b[0mweights\u001b[0m\u001b[0;34m=\u001b[0m\u001b[0;34m\"imagenet\"\u001b[0m\u001b[0;34m,\u001b[0m\u001b[0;34m\u001b[0m\u001b[0;34m\u001b[0m\u001b[0m\n\u001b[1;32m      5\u001b[0m   \u001b[0;31m#  input_shape=input_shape,\u001b[0m\u001b[0;34m\u001b[0m\u001b[0;34m\u001b[0m\u001b[0m\n",
            "\u001b[0;31mNameError\u001b[0m: name 'tfk' is not defined"
          ]
        }
      ]
    },
    {
      "cell_type": "code",
      "source": [
        "modello.summary()"
      ],
      "metadata": {
        "id": "umM7GhpXNw09"
      },
      "execution_count": null,
      "outputs": []
    },
    {
      "cell_type": "code",
      "source": [],
      "metadata": {
        "id": "qrxR9L1LNwwF"
      },
      "execution_count": null,
      "outputs": []
    },
    {
      "cell_type": "markdown",
      "source": [
        "#cutMix-MixUp"
      ],
      "metadata": {
        "id": "Q7vngWMoTj-c"
      }
    },
    {
      "cell_type": "code",
      "source": [
        "def preprocess(img, label):\n",
        "    img = tf.image.convert_image_dtype(img, tf.float32)\n",
        "    img = tf.cast(img, tf.float32)\n",
        "    return {\"images\": img, \"labels\": label}\n",
        "\n",
        "def prep_for_model(inputs):\n",
        "    images, labels = inputs[\"images\"], inputs[\"labels\"]\n",
        "    images = tf.cast(images, tf.float32)\n",
        "    return images, labels\n",
        "\n",
        "def cutmix_or_mixup(samples):\n",
        "    if tf.random.uniform(()) > 0.5:\n",
        "        samples = keras_cv.layers.CutMix()(samples)\n",
        "    else:\n",
        "        samples = keras_cv.layers.MixUp()(samples)\n",
        "    return samples\n",
        "\n",
        "train_ds_cm = train_ds.map(preprocess).map( cut_or_mix ).map( prep_for_model)"
      ],
      "metadata": {
        "id": "dJ_D2CDnTmgY"
      },
      "execution_count": null,
      "outputs": []
    },
    {
      "cell_type": "markdown",
      "source": [
        "#ModelloEfficientnetAugmentation"
      ],
      "metadata": {
        "id": "MSI3m_DwQfOI"
      }
    },
    {
      "cell_type": "code",
      "source": [
        "print(val_dataset)"
      ],
      "metadata": {
        "colab": {
          "base_uri": "https://localhost:8080/"
        },
        "id": "JX78S-vYvx1n",
        "outputId": "fd93c93d-afe2-4175-9e63-658072148f56"
      },
      "execution_count": null,
      "outputs": [
        {
          "output_type": "stream",
          "name": "stdout",
          "text": [
            "<_PrefetchDataset element_spec=(TensorSpec(shape=(None, 96, 96, 3), dtype=tf.float32, name=None), TensorSpec(shape=(None, 2), dtype=tf.int64, name=None))>\n"
          ]
        }
      ]
    },
    {
      "cell_type": "code",
      "source": [
        "BATCH_SIZE = 32\n",
        "IMG_SIZE = 96\n",
        "AUTO = tf.data.AUTOTUNE\n",
        "\n",
        "input_shape =  X_train[0].shape\n",
        "cnn = tfk.applications.EfficientNetV2B2(\n",
        "    include_top=False,\n",
        "    weights=\"imagenet\",\n",
        "    input_shape=input_shape,\n",
        "    include_preprocessing=True,\n",
        "    )\n",
        "cnn.trainable = False\n",
        "print(cnn.name)\n",
        "print(input_shape)\n",
        "\n",
        "\n",
        "\n",
        "\n",
        "#data augmentation\n",
        "#data_augmentation = models.Sequential([\n",
        "#      tfkl.RandomTranslation(0.2,0.2),\n",
        "#      tfkl.RandomRotation(0.2),\n",
        "#      tfkl.RandomZoom(0.2),\n",
        "#\n",
        "#])\n",
        "\n",
        "\n",
        "modelloEffm = models.Sequential([\n",
        "      tfk.Input(shape=input_shape),\n",
        "      #data_augmentation,\n",
        "      cnn,\n",
        "      tfkl.GlobalAveragePooling2D(),\n",
        "      #tfkl.Dropout(0.2),\n",
        "      tfkl.Dense(2, activation='softmax')\n",
        "    ])\n",
        "\n",
        "modelloEffm.compile(optimizer=Adam(learning_rate=0.001),\n",
        "              loss='categorical_crossentropy',\n",
        "              metrics=['accuracy'])\n",
        "callbacks = [\n",
        "    EarlyStopping(monitor='val_loss', patience=20),\n",
        "\n",
        "]\n",
        "\n",
        "modelloEffm.fit(train_dataset, epochs=200, callbacks=callbacks, validation_data=val_dataset)\n",
        "modelloEffm.save('/gdrive/My Drive/ModelloEfficientnet2')"
      ],
      "metadata": {
        "id": "8aBU3Jb0QeKM",
        "colab": {
          "base_uri": "https://localhost:8080/"
        },
        "outputId": "27b8661d-c400-41fc-b92a-7f4e344470fe"
      },
      "execution_count": null,
      "outputs": [
        {
          "output_type": "stream",
          "name": "stdout",
          "text": [
            "efficientnetv2-b2\n",
            "(96, 96, 3)\n",
            "Epoch 1/200\n",
            "137/137 [==============================] - 53s 298ms/step - loss: 0.6631 - accuracy: 0.6218 - val_loss: 0.5969 - val_accuracy: 0.6619\n",
            "Epoch 2/200\n",
            "137/137 [==============================] - 39s 286ms/step - loss: 0.6438 - accuracy: 0.6405 - val_loss: 0.5618 - val_accuracy: 0.7031\n",
            "Epoch 3/200\n",
            "137/137 [==============================] - 38s 280ms/step - loss: 0.6401 - accuracy: 0.6444 - val_loss: 0.5464 - val_accuracy: 0.7340\n",
            "Epoch 4/200\n",
            "137/137 [==============================] - 36s 262ms/step - loss: 0.6365 - accuracy: 0.6495 - val_loss: 0.5378 - val_accuracy: 0.7361\n",
            "Epoch 5/200\n",
            "137/137 [==============================] - 37s 270ms/step - loss: 0.6261 - accuracy: 0.6632 - val_loss: 0.5391 - val_accuracy: 0.7320\n",
            "Epoch 6/200\n",
            "137/137 [==============================] - 37s 270ms/step - loss: 0.6422 - accuracy: 0.6451 - val_loss: 0.5383 - val_accuracy: 0.7237\n",
            "Epoch 7/200\n",
            "137/137 [==============================] - 37s 266ms/step - loss: 0.6324 - accuracy: 0.6465 - val_loss: 0.5347 - val_accuracy: 0.7052\n",
            "Epoch 8/200\n",
            "137/137 [==============================] - 37s 268ms/step - loss: 0.6290 - accuracy: 0.6548 - val_loss: 0.5362 - val_accuracy: 0.7052\n",
            "Epoch 9/200\n",
            "137/137 [==============================] - 37s 269ms/step - loss: 0.6250 - accuracy: 0.6568 - val_loss: 0.5234 - val_accuracy: 0.7381\n",
            "Epoch 10/200\n",
            "137/137 [==============================] - 54s 393ms/step - loss: 0.6303 - accuracy: 0.6648 - val_loss: 0.5256 - val_accuracy: 0.7278\n",
            "Epoch 11/200\n",
            "137/137 [==============================] - 47s 339ms/step - loss: 0.6253 - accuracy: 0.6639 - val_loss: 0.5212 - val_accuracy: 0.7443\n",
            "Epoch 12/200\n",
            "137/137 [==============================] - 37s 267ms/step - loss: 0.6300 - accuracy: 0.6598 - val_loss: 0.5228 - val_accuracy: 0.7299\n",
            "Epoch 13/200\n",
            "137/137 [==============================] - 37s 266ms/step - loss: 0.6320 - accuracy: 0.6486 - val_loss: 0.5235 - val_accuracy: 0.7443\n",
            "Epoch 14/200\n",
            "137/137 [==============================] - 38s 274ms/step - loss: 0.6271 - accuracy: 0.6612 - val_loss: 0.5165 - val_accuracy: 0.7567\n",
            "Epoch 15/200\n",
            "137/137 [==============================] - 39s 278ms/step - loss: 0.6216 - accuracy: 0.6676 - val_loss: 0.5035 - val_accuracy: 0.7649\n",
            "Epoch 16/200\n",
            "137/137 [==============================] - 53s 386ms/step - loss: 0.6221 - accuracy: 0.6706 - val_loss: 0.5086 - val_accuracy: 0.7443\n",
            "Epoch 17/200\n",
            "137/137 [==============================] - 45s 329ms/step - loss: 0.6209 - accuracy: 0.6591 - val_loss: 0.5070 - val_accuracy: 0.7629\n",
            "Epoch 18/200\n",
            "137/137 [==============================] - 38s 276ms/step - loss: 0.6214 - accuracy: 0.6662 - val_loss: 0.4985 - val_accuracy: 0.7485\n",
            "Epoch 19/200\n",
            "137/137 [==============================] - 38s 279ms/step - loss: 0.6271 - accuracy: 0.6706 - val_loss: 0.4975 - val_accuracy: 0.7649\n",
            "Epoch 20/200\n",
            "137/137 [==============================] - 38s 279ms/step - loss: 0.6201 - accuracy: 0.6635 - val_loss: 0.5007 - val_accuracy: 0.7505\n",
            "Epoch 21/200\n",
            "137/137 [==============================] - 37s 267ms/step - loss: 0.6226 - accuracy: 0.6685 - val_loss: 0.4997 - val_accuracy: 0.7588\n",
            "Epoch 22/200\n",
            "137/137 [==============================] - 38s 276ms/step - loss: 0.6255 - accuracy: 0.6593 - val_loss: 0.4958 - val_accuracy: 0.7691\n",
            "Epoch 23/200\n",
            "137/137 [==============================] - 37s 272ms/step - loss: 0.6334 - accuracy: 0.6529 - val_loss: 0.5031 - val_accuracy: 0.7629\n",
            "Epoch 24/200\n",
            "137/137 [==============================] - 37s 269ms/step - loss: 0.6247 - accuracy: 0.6575 - val_loss: 0.5029 - val_accuracy: 0.7505\n",
            "Epoch 25/200\n",
            "137/137 [==============================] - 37s 266ms/step - loss: 0.6257 - accuracy: 0.6616 - val_loss: 0.5066 - val_accuracy: 0.7629\n",
            "Epoch 26/200\n",
            "137/137 [==============================] - 37s 263ms/step - loss: 0.6259 - accuracy: 0.6570 - val_loss: 0.4994 - val_accuracy: 0.7608\n",
            "Epoch 27/200\n",
            "137/137 [==============================] - 37s 266ms/step - loss: 0.6230 - accuracy: 0.6582 - val_loss: 0.4926 - val_accuracy: 0.7588\n",
            "Epoch 28/200\n",
            "137/137 [==============================] - 37s 271ms/step - loss: 0.6258 - accuracy: 0.6534 - val_loss: 0.5000 - val_accuracy: 0.7464\n",
            "Epoch 29/200\n",
            "137/137 [==============================] - 37s 266ms/step - loss: 0.6289 - accuracy: 0.6566 - val_loss: 0.4942 - val_accuracy: 0.7794\n",
            "Epoch 30/200\n",
            "137/137 [==============================] - 39s 280ms/step - loss: 0.6319 - accuracy: 0.6497 - val_loss: 0.4940 - val_accuracy: 0.7732\n",
            "Epoch 31/200\n",
            "137/137 [==============================] - 37s 265ms/step - loss: 0.6196 - accuracy: 0.6676 - val_loss: 0.4929 - val_accuracy: 0.7546\n",
            "Epoch 32/200\n",
            "137/137 [==============================] - 40s 286ms/step - loss: 0.6252 - accuracy: 0.6651 - val_loss: 0.4921 - val_accuracy: 0.7732\n",
            "Epoch 33/200\n",
            "137/137 [==============================] - 40s 291ms/step - loss: 0.6236 - accuracy: 0.6561 - val_loss: 0.4950 - val_accuracy: 0.7753\n",
            "Epoch 34/200\n",
            "137/137 [==============================] - 40s 287ms/step - loss: 0.6255 - accuracy: 0.6527 - val_loss: 0.4969 - val_accuracy: 0.7711\n",
            "Epoch 35/200\n",
            "137/137 [==============================] - 38s 273ms/step - loss: 0.6247 - accuracy: 0.6625 - val_loss: 0.4981 - val_accuracy: 0.7711\n",
            "Epoch 36/200\n",
            "137/137 [==============================] - 38s 273ms/step - loss: 0.6182 - accuracy: 0.6756 - val_loss: 0.4939 - val_accuracy: 0.7773\n",
            "Epoch 37/200\n",
            "137/137 [==============================] - 37s 266ms/step - loss: 0.6224 - accuracy: 0.6628 - val_loss: 0.4915 - val_accuracy: 0.7629\n",
            "Epoch 38/200\n",
            "137/137 [==============================] - 41s 297ms/step - loss: 0.6289 - accuracy: 0.6582 - val_loss: 0.4950 - val_accuracy: 0.7691\n",
            "Epoch 39/200\n",
            "137/137 [==============================] - 37s 266ms/step - loss: 0.6231 - accuracy: 0.6628 - val_loss: 0.4907 - val_accuracy: 0.7711\n",
            "Epoch 40/200\n",
            "137/137 [==============================] - 37s 269ms/step - loss: 0.6272 - accuracy: 0.6550 - val_loss: 0.4865 - val_accuracy: 0.7814\n",
            "Epoch 41/200\n",
            "137/137 [==============================] - 37s 268ms/step - loss: 0.6260 - accuracy: 0.6573 - val_loss: 0.4927 - val_accuracy: 0.7711\n",
            "Epoch 42/200\n",
            "137/137 [==============================] - 37s 266ms/step - loss: 0.6235 - accuracy: 0.6564 - val_loss: 0.4990 - val_accuracy: 0.7340\n",
            "Epoch 43/200\n",
            "137/137 [==============================] - 40s 290ms/step - loss: 0.6241 - accuracy: 0.6635 - val_loss: 0.4897 - val_accuracy: 0.7691\n",
            "Epoch 44/200\n",
            "137/137 [==============================] - 37s 272ms/step - loss: 0.6260 - accuracy: 0.6625 - val_loss: 0.4922 - val_accuracy: 0.7732\n",
            "Epoch 45/200\n",
            "137/137 [==============================] - 37s 269ms/step - loss: 0.6260 - accuracy: 0.6559 - val_loss: 0.4962 - val_accuracy: 0.7732\n",
            "Epoch 46/200\n",
            "137/137 [==============================] - 37s 271ms/step - loss: 0.6183 - accuracy: 0.6658 - val_loss: 0.5150 - val_accuracy: 0.7134\n",
            "Epoch 47/200\n",
            "137/137 [==============================] - 37s 271ms/step - loss: 0.6195 - accuracy: 0.6641 - val_loss: 0.4948 - val_accuracy: 0.7629\n",
            "Epoch 48/200\n",
            "137/137 [==============================] - 37s 269ms/step - loss: 0.6212 - accuracy: 0.6616 - val_loss: 0.4953 - val_accuracy: 0.7670\n",
            "Epoch 49/200\n",
            "137/137 [==============================] - 37s 267ms/step - loss: 0.6223 - accuracy: 0.6671 - val_loss: 0.4912 - val_accuracy: 0.7670\n",
            "Epoch 50/200\n",
            "137/137 [==============================] - 37s 267ms/step - loss: 0.6268 - accuracy: 0.6557 - val_loss: 0.4948 - val_accuracy: 0.7773\n",
            "Epoch 51/200\n",
            "137/137 [==============================] - 41s 298ms/step - loss: 0.6275 - accuracy: 0.6534 - val_loss: 0.4959 - val_accuracy: 0.7649\n",
            "Epoch 52/200\n",
            "137/137 [==============================] - 37s 269ms/step - loss: 0.6209 - accuracy: 0.6651 - val_loss: 0.5029 - val_accuracy: 0.7794\n",
            "Epoch 53/200\n",
            "137/137 [==============================] - 37s 265ms/step - loss: 0.6297 - accuracy: 0.6632 - val_loss: 0.5064 - val_accuracy: 0.7670\n",
            "Epoch 54/200\n",
            "137/137 [==============================] - 37s 272ms/step - loss: 0.6193 - accuracy: 0.6690 - val_loss: 0.4972 - val_accuracy: 0.7546\n",
            "Epoch 55/200\n",
            "137/137 [==============================] - 37s 271ms/step - loss: 0.6223 - accuracy: 0.6598 - val_loss: 0.4945 - val_accuracy: 0.7649\n",
            "Epoch 56/200\n",
            "137/137 [==============================] - 37s 270ms/step - loss: 0.6287 - accuracy: 0.6573 - val_loss: 0.4942 - val_accuracy: 0.7629\n",
            "Epoch 57/200\n",
            "137/137 [==============================] - 38s 277ms/step - loss: 0.6232 - accuracy: 0.6635 - val_loss: 0.4972 - val_accuracy: 0.7691\n",
            "Epoch 58/200\n",
            "137/137 [==============================] - 39s 285ms/step - loss: 0.6209 - accuracy: 0.6715 - val_loss: 0.4870 - val_accuracy: 0.7691\n",
            "Epoch 59/200\n",
            "137/137 [==============================] - 37s 269ms/step - loss: 0.6229 - accuracy: 0.6635 - val_loss: 0.4919 - val_accuracy: 0.7794\n",
            "Epoch 60/200\n",
            "137/137 [==============================] - 42s 301ms/step - loss: 0.6224 - accuracy: 0.6676 - val_loss: 0.4967 - val_accuracy: 0.7464\n"
          ]
        }
      ]
    },
    {
      "cell_type": "code",
      "source": [
        "modelloEffm.evaluate(X_val, y_val_B)"
      ],
      "metadata": {
        "id": "pY36drKAwU08",
        "colab": {
          "base_uri": "https://localhost:8080/"
        },
        "outputId": "9496cdb6-5ec3-4622-bde8-6d9423fb2124"
      },
      "execution_count": null,
      "outputs": [
        {
          "output_type": "stream",
          "name": "stdout",
          "text": [
            "16/16 [==============================] - 1s 37ms/step - loss: 0.4967 - accuracy: 0.7464\n"
          ]
        },
        {
          "output_type": "execute_result",
          "data": {
            "text/plain": [
              "[0.49673452973365784, 0.746391773223877]"
            ]
          },
          "metadata": {},
          "execution_count": 65
        }
      ]
    },
    {
      "cell_type": "markdown",
      "source": [
        "# Modello abercrombie"
      ],
      "metadata": {
        "id": "X6feu4xzM8Hq"
      }
    },
    {
      "cell_type": "code",
      "source": [
        "#test time augmentation\n",
        "#he con relu, xavier glorot cin altro :)\n",
        "model = models.Sequential([\n",
        "      tfkl.RandomFlip(\"horizontal_and_vertical\"),\n",
        "      tfkl.RandomTranslation(0.2,0.2),\n",
        "      tfkl.RandomRotation(0.2),\n",
        "      tfkl.RandomZoom(0.2),\n",
        "      tfkl.Conv2D(32, (3, 3), activation='relu', input_shape=(96, 96, 3)),\n",
        "      tfkl.MaxPooling2D((3, 3)),\n",
        "      tfkl.Conv2D(64, (3, 3), activation='relu'),\n",
        "      tfkl.Flatten(),\n",
        "      tfkl.Dense(128, activation='relu'),\n",
        "      tfkl.Dropout(0.75),  # Add dropout with a 50% rate\n",
        "      tfkl.Dense(2, activation='softmax')  # Binary classification, so use a sigmoid activation\n",
        "    ])\n",
        "\n",
        "# Compile the model\n",
        "model.compile(optimizer=Adam(),\n",
        "              loss='categorical_crossentropy',  # Binary cross-entropy for binary classification\n",
        "              metrics=['accuracy'])\n",
        "callbacks = [\n",
        "   # ModelCheckpoint('best_model.h5', save_best_only=True, monitor='val_loss'),\n",
        "    EarlyStopping(monitor='val_loss', patience=20),\n",
        "  #  TensorBoard(log_dir='logs', histogram_freq=1, write_graph=True),\n",
        "   # ReduceLROnPlateau(monitor='val_loss', factor=0.1, patience=4)\n",
        "]\n",
        "\n",
        "model.fit(X_train, y_train_B, epochs=200, callbacks=callbacks, validation_data=(X_val, y_val_B))\n",
        "#model.save('/gdrive/My Drive/ModelloRic')"
      ],
      "metadata": {
        "id": "GzD40G_bM-tL"
      },
      "execution_count": null,
      "outputs": []
    },
    {
      "cell_type": "code",
      "source": [
        "model.evaluate(X_test, y_test_B)"
      ],
      "metadata": {
        "id": "6RDDldCMllvU"
      },
      "execution_count": null,
      "outputs": []
    },
    {
      "cell_type": "code",
      "source": [
        "model.save('ModelloRic')\n",
        "#del model"
      ],
      "metadata": {
        "id": "g-xJNhl3nvqK"
      },
      "execution_count": null,
      "outputs": []
    },
    {
      "cell_type": "markdown",
      "source": [
        "# Model Transfer\n"
      ],
      "metadata": {
        "id": "Wtjc2BDPUs3-"
      }
    },
    {
      "cell_type": "code",
      "source": [
        "# Train the model\n",
        "\n",
        "mobile = tfk.applications.MobileNetV2(\n",
        "    input_shape=(96, 96, 3),\n",
        "    include_top=False,\n",
        "    weights=\"imagenet\",\n",
        "    pooling='avg',\n",
        ")\n",
        "\n",
        "# Use the supernet as feature extractor, i.e. freeze all its weigths\n",
        "mobile.trainable = False\n",
        "\n",
        "# Create an input layer with shape (224, 224, 3)\n",
        "inputs = tfk.Input(shape=(96, 96, 3))\n",
        "# Connect MobileNetV2 to the input\n",
        "\n",
        "aug = models.Sequential([\n",
        "  tfkl.RandomFlip(\"horizontal_and_vertical\"),\n",
        "  tfkl.RandomTranslation(0.2,0.2),\n",
        "  tfkl.RandomRotation(0.2),\n",
        "  tfkl.RandomZoom(0.2)])\n",
        "\n",
        "x = aug(inputs)\n",
        "\n",
        "x = mobile(x)\n",
        "# Add a Dense layer with 2 units and softmax activation as the classifier\n",
        "outputs = tfkl.Dense(2, activation='softmax')(x)\n",
        "\n",
        "# Create a Model connecting input and output\n",
        "tl_model = tfk.Model(inputs=inputs, outputs=outputs, name='model')\n",
        "\n",
        "# Compile the model with Categorical Cross-Entropy loss and Adam optimizer\n",
        "tl_model.compile(loss=tfk.losses.CategoricalCrossentropy(), optimizer=tfk.optimizers.Adam(), metrics=['accuracy'])\n",
        "\n",
        "# Display model summary\n",
        "tl_model.summary()\n",
        "\n",
        "# tfk.utils.plot_model(mobile, show_shapes=True)\n",
        "\n",
        "# tl_model.fit(preprocess_input(((X_train))*255), # We need to apply the preprocessing thought for the MobileNetV2 network\n",
        "#              y_train_B, batch_size = 16, epochs = 200, validation_data = (preprocess_input(X_val*255), y_val_B), # We need to apply the preprocessing thought for the MobileNetV2 network\n",
        "#     callbacks = [tfk.callbacks.EarlyStopping(monitor='val_accuracy', mode='max', patience=20, restore_best_weights=True)]\n",
        "# )\n",
        "\n"
      ],
      "metadata": {
        "id": "5UW0IPRKVw1E"
      },
      "execution_count": null,
      "outputs": []
    },
    {
      "cell_type": "code",
      "source": [
        "# Save the best model\n",
        "tl_model.save('TransferLearningModel')\n",
        "del tl_model"
      ],
      "metadata": {
        "id": "UfZbV4cyeqZ6"
      },
      "execution_count": null,
      "outputs": []
    },
    {
      "cell_type": "markdown",
      "source": [
        "# Convex"
      ],
      "metadata": {
        "id": "iH3OrMb4MVha"
      }
    },
    {
      "cell_type": "code",
      "source": [
        "cnn = tf.keras.applications.ConvNeXtLarge(\n",
        "    model_name=\"convnext_large\",\n",
        "    include_top=False,\n",
        "    include_preprocessing=True,\n",
        "    weights=\"imagenet\"\n",
        ")\n",
        "cnn.trainable = False\n",
        "print(cnn.name)\n",
        "print(cnn.layers[-1])\n",
        "\n",
        "\n",
        "\n",
        "#data augmentation\n",
        "data_augmentation = models.Sequential([\n",
        "      tfkl.RandomTranslation(0.2,0.2),\n",
        "      tfkl.RandomRotation(0.2),\n",
        "      tfkl.RandomZoom(0.2)\n",
        "])\n",
        "\n",
        "\n",
        "modellino = models.Sequential([\n",
        "      tfk.Input(shape=input_shape),\n",
        "      data_augmentation,\n",
        "      cnn,\n",
        "      tfkl.GlobalAveragePooling2D(),\n",
        "      #tfkl.Dropout(0.2),\n",
        "      tfkl.Dense(2, activation='softmax')\n",
        "    ])\n",
        "\n",
        "modellino.compile(optimizer=AdamW(learning_rate=0.001, weight_decay = 0.04),\n",
        "              loss='categorical_crossentropy',\n",
        "              metrics=['accuracy'])\n",
        "callbacks = [\n",
        "    EarlyStopping(monitor='val_loss', patience=20),\n",
        "    ModelCheckpoint(filepath=\"/kaggle/working/model_weights.h5\", save_weights_only=True, verbose=1)\n",
        "]\n",
        "\n",
        "modellino.fit(train_dataset, epochs=200, callbacks=callbacks, batch_size = 64, validation_data=val_dataset)\n",
        "modellino.save('/gdrive/My Drive/ModelloConvneXtNetLarge')"
      ],
      "metadata": {
        "id": "cf_K9Wz9MZB2"
      },
      "execution_count": null,
      "outputs": []
    },
    {
      "cell_type": "markdown",
      "source": [
        "# Fine tuning"
      ],
      "metadata": {
        "id": "O5CLGePMeZ1h"
      }
    },
    {
      "cell_type": "code",
      "source": [
        "# then we retrain with a low ln at the end\n",
        "\n",
        "# Re-load the model after transfer learning\n",
        "ft_model = tfk.models.load_model('/gdrive/My Drive/ModelloEfficientnetM_AUG')"
      ],
      "metadata": {
        "id": "jHFkip_ViQ26"
      },
      "execution_count": null,
      "outputs": []
    },
    {
      "cell_type": "code",
      "source": [
        "#from tensorflow.keras.src.layers import BatchNormalization\n",
        "# Set all MobileNetV2 layers as trainable\n",
        "ft_model.get_layer('efficientnetv2-m').trainable = True\n",
        "for i, layer in enumerate(ft_model.get_layer('efficientnetv2-m').layers):\n",
        "  if layer.__class__.__name__ == 'BatchNormalization':\n",
        "    layer.trainable = False\n",
        "  print(i, layer.name, layer.trainable) #i = numero layers. ne tolgo un po alla volta, metto fino a N false e resto true, vedo io che numero mettere. (nel for sopra)"
      ],
      "metadata": {
        "id": "7kadcR4beb07",
        "colab": {
          "base_uri": "https://localhost:8080/"
        },
        "outputId": "34243b03-c8ae-45b1-8a4b-cce34f8e514e"
      },
      "execution_count": null,
      "outputs": [
        {
          "output_type": "stream",
          "name": "stdout",
          "text": [
            "0 input_15 True\n",
            "1 rescaling_9 True\n",
            "2 normalization_9 True\n",
            "3 stem_conv True\n",
            "4 stem_bn False\n",
            "5 stem_activation True\n",
            "6 block1a_project_conv True\n",
            "7 block1a_project_bn False\n",
            "8 block1a_project_activation True\n",
            "9 block1b_project_conv True\n",
            "10 block1b_project_bn False\n",
            "11 block1b_project_activation True\n",
            "12 block1b_drop True\n",
            "13 block1b_add True\n",
            "14 block2a_expand_conv True\n",
            "15 block2a_expand_bn False\n",
            "16 block2a_expand_activation True\n",
            "17 block2a_project_conv True\n",
            "18 block2a_project_bn False\n",
            "19 block2b_expand_conv True\n",
            "20 block2b_expand_bn False\n",
            "21 block2b_expand_activation True\n",
            "22 block2b_project_conv True\n",
            "23 block2b_project_bn False\n",
            "24 block2b_drop True\n",
            "25 block2b_add True\n",
            "26 block2c_expand_conv True\n",
            "27 block2c_expand_bn False\n",
            "28 block2c_expand_activation True\n",
            "29 block2c_project_conv True\n",
            "30 block2c_project_bn False\n",
            "31 block2c_drop True\n",
            "32 block2c_add True\n",
            "33 block3a_expand_conv True\n",
            "34 block3a_expand_bn False\n",
            "35 block3a_expand_activation True\n",
            "36 block3a_project_conv True\n",
            "37 block3a_project_bn False\n",
            "38 block3b_expand_conv True\n",
            "39 block3b_expand_bn False\n",
            "40 block3b_expand_activation True\n",
            "41 block3b_project_conv True\n",
            "42 block3b_project_bn False\n",
            "43 block3b_drop True\n",
            "44 block3b_add True\n",
            "45 block3c_expand_conv True\n",
            "46 block3c_expand_bn False\n",
            "47 block3c_expand_activation True\n",
            "48 block3c_project_conv True\n",
            "49 block3c_project_bn False\n",
            "50 block3c_drop True\n",
            "51 block3c_add True\n",
            "52 block4a_expand_conv True\n",
            "53 block4a_expand_bn False\n",
            "54 block4a_expand_activation True\n",
            "55 block4a_dwconv2 True\n",
            "56 block4a_bn False\n",
            "57 block4a_activation True\n",
            "58 block4a_se_squeeze True\n",
            "59 block4a_se_reshape True\n",
            "60 block4a_se_reduce True\n",
            "61 block4a_se_expand True\n",
            "62 block4a_se_excite True\n",
            "63 block4a_project_conv True\n",
            "64 block4a_project_bn False\n",
            "65 block4b_expand_conv True\n",
            "66 block4b_expand_bn False\n",
            "67 block4b_expand_activation True\n",
            "68 block4b_dwconv2 True\n",
            "69 block4b_bn False\n",
            "70 block4b_activation True\n",
            "71 block4b_se_squeeze True\n",
            "72 block4b_se_reshape True\n",
            "73 block4b_se_reduce True\n",
            "74 block4b_se_expand True\n",
            "75 block4b_se_excite True\n",
            "76 block4b_project_conv True\n",
            "77 block4b_project_bn False\n",
            "78 block4b_drop True\n",
            "79 block4b_add True\n",
            "80 block4c_expand_conv True\n",
            "81 block4c_expand_bn False\n",
            "82 block4c_expand_activation True\n",
            "83 block4c_dwconv2 True\n",
            "84 block4c_bn False\n",
            "85 block4c_activation True\n",
            "86 block4c_se_squeeze True\n",
            "87 block4c_se_reshape True\n",
            "88 block4c_se_reduce True\n",
            "89 block4c_se_expand True\n",
            "90 block4c_se_excite True\n",
            "91 block4c_project_conv True\n",
            "92 block4c_project_bn False\n",
            "93 block4c_drop True\n",
            "94 block4c_add True\n",
            "95 block4d_expand_conv True\n",
            "96 block4d_expand_bn False\n",
            "97 block4d_expand_activation True\n",
            "98 block4d_dwconv2 True\n",
            "99 block4d_bn False\n",
            "100 block4d_activation True\n",
            "101 block4d_se_squeeze True\n",
            "102 block4d_se_reshape True\n",
            "103 block4d_se_reduce True\n",
            "104 block4d_se_expand True\n",
            "105 block4d_se_excite True\n",
            "106 block4d_project_conv True\n",
            "107 block4d_project_bn False\n",
            "108 block4d_drop True\n",
            "109 block4d_add True\n",
            "110 block5a_expand_conv True\n",
            "111 block5a_expand_bn False\n",
            "112 block5a_expand_activation True\n",
            "113 block5a_dwconv2 True\n",
            "114 block5a_bn False\n",
            "115 block5a_activation True\n",
            "116 block5a_se_squeeze True\n",
            "117 block5a_se_reshape True\n",
            "118 block5a_se_reduce True\n",
            "119 block5a_se_expand True\n",
            "120 block5a_se_excite True\n",
            "121 block5a_project_conv True\n",
            "122 block5a_project_bn False\n",
            "123 block5b_expand_conv True\n",
            "124 block5b_expand_bn False\n",
            "125 block5b_expand_activation True\n",
            "126 block5b_dwconv2 True\n",
            "127 block5b_bn False\n",
            "128 block5b_activation True\n",
            "129 block5b_se_squeeze True\n",
            "130 block5b_se_reshape True\n",
            "131 block5b_se_reduce True\n",
            "132 block5b_se_expand True\n",
            "133 block5b_se_excite True\n",
            "134 block5b_project_conv True\n",
            "135 block5b_project_bn False\n",
            "136 block5b_drop True\n",
            "137 block5b_add True\n",
            "138 block5c_expand_conv True\n",
            "139 block5c_expand_bn False\n",
            "140 block5c_expand_activation True\n",
            "141 block5c_dwconv2 True\n",
            "142 block5c_bn False\n",
            "143 block5c_activation True\n",
            "144 block5c_se_squeeze True\n",
            "145 block5c_se_reshape True\n",
            "146 block5c_se_reduce True\n",
            "147 block5c_se_expand True\n",
            "148 block5c_se_excite True\n",
            "149 block5c_project_conv True\n",
            "150 block5c_project_bn False\n",
            "151 block5c_drop True\n",
            "152 block5c_add True\n",
            "153 block5d_expand_conv True\n",
            "154 block5d_expand_bn False\n",
            "155 block5d_expand_activation True\n",
            "156 block5d_dwconv2 True\n",
            "157 block5d_bn False\n",
            "158 block5d_activation True\n",
            "159 block5d_se_squeeze True\n",
            "160 block5d_se_reshape True\n",
            "161 block5d_se_reduce True\n",
            "162 block5d_se_expand True\n",
            "163 block5d_se_excite True\n",
            "164 block5d_project_conv True\n",
            "165 block5d_project_bn False\n",
            "166 block5d_drop True\n",
            "167 block5d_add True\n",
            "168 block5e_expand_conv True\n",
            "169 block5e_expand_bn False\n",
            "170 block5e_expand_activation True\n",
            "171 block5e_dwconv2 True\n",
            "172 block5e_bn False\n",
            "173 block5e_activation True\n",
            "174 block5e_se_squeeze True\n",
            "175 block5e_se_reshape True\n",
            "176 block5e_se_reduce True\n",
            "177 block5e_se_expand True\n",
            "178 block5e_se_excite True\n",
            "179 block5e_project_conv True\n",
            "180 block5e_project_bn False\n",
            "181 block5e_drop True\n",
            "182 block5e_add True\n",
            "183 block5f_expand_conv True\n",
            "184 block5f_expand_bn False\n",
            "185 block5f_expand_activation True\n",
            "186 block5f_dwconv2 True\n",
            "187 block5f_bn False\n",
            "188 block5f_activation True\n",
            "189 block5f_se_squeeze True\n",
            "190 block5f_se_reshape True\n",
            "191 block5f_se_reduce True\n",
            "192 block5f_se_expand True\n",
            "193 block5f_se_excite True\n",
            "194 block5f_project_conv True\n",
            "195 block5f_project_bn False\n",
            "196 block5f_drop True\n",
            "197 block5f_add True\n",
            "198 block6a_expand_conv True\n",
            "199 block6a_expand_bn False\n",
            "200 block6a_expand_activation True\n",
            "201 block6a_dwconv2 True\n",
            "202 block6a_bn False\n",
            "203 block6a_activation True\n",
            "204 block6a_se_squeeze True\n",
            "205 block6a_se_reshape True\n",
            "206 block6a_se_reduce True\n",
            "207 block6a_se_expand True\n",
            "208 block6a_se_excite True\n",
            "209 block6a_project_conv True\n",
            "210 block6a_project_bn False\n",
            "211 block6b_expand_conv True\n",
            "212 block6b_expand_bn False\n",
            "213 block6b_expand_activation True\n",
            "214 block6b_dwconv2 True\n",
            "215 block6b_bn False\n",
            "216 block6b_activation True\n",
            "217 block6b_se_squeeze True\n",
            "218 block6b_se_reshape True\n",
            "219 block6b_se_reduce True\n",
            "220 block6b_se_expand True\n",
            "221 block6b_se_excite True\n",
            "222 block6b_project_conv True\n",
            "223 block6b_project_bn False\n",
            "224 block6b_drop True\n",
            "225 block6b_add True\n",
            "226 block6c_expand_conv True\n",
            "227 block6c_expand_bn False\n",
            "228 block6c_expand_activation True\n",
            "229 block6c_dwconv2 True\n",
            "230 block6c_bn False\n",
            "231 block6c_activation True\n",
            "232 block6c_se_squeeze True\n",
            "233 block6c_se_reshape True\n",
            "234 block6c_se_reduce True\n",
            "235 block6c_se_expand True\n",
            "236 block6c_se_excite True\n",
            "237 block6c_project_conv True\n",
            "238 block6c_project_bn False\n",
            "239 block6c_drop True\n",
            "240 block6c_add True\n",
            "241 block6d_expand_conv True\n",
            "242 block6d_expand_bn False\n",
            "243 block6d_expand_activation True\n",
            "244 block6d_dwconv2 True\n",
            "245 block6d_bn False\n",
            "246 block6d_activation True\n",
            "247 block6d_se_squeeze True\n",
            "248 block6d_se_reshape True\n",
            "249 block6d_se_reduce True\n",
            "250 block6d_se_expand True\n",
            "251 block6d_se_excite True\n",
            "252 block6d_project_conv True\n",
            "253 block6d_project_bn False\n",
            "254 block6d_drop True\n",
            "255 block6d_add True\n",
            "256 block6e_expand_conv True\n",
            "257 block6e_expand_bn False\n",
            "258 block6e_expand_activation True\n",
            "259 block6e_dwconv2 True\n",
            "260 block6e_bn False\n",
            "261 block6e_activation True\n",
            "262 block6e_se_squeeze True\n",
            "263 block6e_se_reshape True\n",
            "264 block6e_se_reduce True\n",
            "265 block6e_se_expand True\n",
            "266 block6e_se_excite True\n",
            "267 block6e_project_conv True\n",
            "268 block6e_project_bn False\n",
            "269 block6e_drop True\n",
            "270 block6e_add True\n",
            "271 block6f_expand_conv True\n",
            "272 block6f_expand_bn False\n",
            "273 block6f_expand_activation True\n",
            "274 block6f_dwconv2 True\n",
            "275 block6f_bn False\n",
            "276 block6f_activation True\n",
            "277 block6f_se_squeeze True\n",
            "278 block6f_se_reshape True\n",
            "279 block6f_se_reduce True\n",
            "280 block6f_se_expand True\n",
            "281 block6f_se_excite True\n",
            "282 block6f_project_conv True\n",
            "283 block6f_project_bn False\n",
            "284 block6f_drop True\n",
            "285 block6f_add True\n",
            "286 block6g_expand_conv True\n",
            "287 block6g_expand_bn False\n",
            "288 block6g_expand_activation True\n",
            "289 block6g_dwconv2 True\n",
            "290 block6g_bn False\n",
            "291 block6g_activation True\n",
            "292 block6g_se_squeeze True\n",
            "293 block6g_se_reshape True\n",
            "294 block6g_se_reduce True\n",
            "295 block6g_se_expand True\n",
            "296 block6g_se_excite True\n",
            "297 block6g_project_conv True\n",
            "298 block6g_project_bn False\n",
            "299 block6g_drop True\n",
            "300 block6g_add True\n",
            "301 block6h_expand_conv True\n",
            "302 block6h_expand_bn False\n",
            "303 block6h_expand_activation True\n",
            "304 block6h_dwconv2 True\n",
            "305 block6h_bn False\n",
            "306 block6h_activation True\n",
            "307 block6h_se_squeeze True\n",
            "308 block6h_se_reshape True\n",
            "309 block6h_se_reduce True\n",
            "310 block6h_se_expand True\n",
            "311 block6h_se_excite True\n",
            "312 block6h_project_conv True\n",
            "313 block6h_project_bn False\n",
            "314 block6h_drop True\n",
            "315 block6h_add True\n",
            "316 block6i_expand_conv True\n",
            "317 block6i_expand_bn False\n",
            "318 block6i_expand_activation True\n",
            "319 block6i_dwconv2 True\n",
            "320 block6i_bn False\n",
            "321 block6i_activation True\n",
            "322 block6i_se_squeeze True\n",
            "323 block6i_se_reshape True\n",
            "324 block6i_se_reduce True\n",
            "325 block6i_se_expand True\n",
            "326 block6i_se_excite True\n",
            "327 block6i_project_conv True\n",
            "328 block6i_project_bn False\n",
            "329 block6i_drop True\n",
            "330 block6i_add True\n",
            "331 block6j_expand_conv True\n",
            "332 block6j_expand_bn False\n",
            "333 block6j_expand_activation True\n",
            "334 block6j_dwconv2 True\n",
            "335 block6j_bn False\n",
            "336 block6j_activation True\n",
            "337 block6j_se_squeeze True\n",
            "338 block6j_se_reshape True\n",
            "339 block6j_se_reduce True\n",
            "340 block6j_se_expand True\n",
            "341 block6j_se_excite True\n",
            "342 block6j_project_conv True\n",
            "343 block6j_project_bn False\n",
            "344 block6j_drop True\n",
            "345 block6j_add True\n",
            "346 top_conv True\n",
            "347 top_bn False\n",
            "348 top_activation True\n"
          ]
        }
      ]
    },
    {
      "cell_type": "code",
      "source": [
        "ft_model.compile(loss=tfk.losses.CategoricalCrossentropy(), optimizer=tfk.optimizers.Adam(1e-5), metrics='accuracy')\n",
        "ft_model.summary()"
      ],
      "metadata": {
        "id": "bEFLquQWkmo6",
        "colab": {
          "base_uri": "https://localhost:8080/"
        },
        "outputId": "b739f69c-a939-47f9-ee6c-2333b1f6bca4"
      },
      "execution_count": null,
      "outputs": [
        {
          "output_type": "stream",
          "name": "stdout",
          "text": [
            "Model: \"sequential_9\"\n",
            "_________________________________________________________________\n",
            " Layer (type)                Output Shape              Param #   \n",
            "=================================================================\n",
            " efficientnetv2-b2 (Functio  (None, 3, 3, 1408)        8769374   \n",
            " nal)                                                            \n",
            "                                                                 \n",
            " global_average_pooling2d_5  (None, 1408)              0         \n",
            "  (GlobalAveragePooling2D)                                       \n",
            "                                                                 \n",
            " dense_5 (Dense)             (None, 2)                 2818      \n",
            "                                                                 \n",
            "=================================================================\n",
            "Total params: 8772192 (33.46 MB)\n",
            "Trainable params: 8607616 (32.84 MB)\n",
            "Non-trainable params: 164576 (642.88 KB)\n",
            "_________________________________________________________________\n"
          ]
        }
      ]
    },
    {
      "cell_type": "code",
      "source": [
        "callbacks = [\n",
        "    EarlyStopping(monitor='val_loss', patience=20),\n",
        "]\n",
        "\n",
        "ft_model.fit(X_train, y_train_B, epochs=200, callbacks=callbacks, validation_data=(X_val, y_val_B))"
      ],
      "metadata": {
        "colab": {
          "base_uri": "https://localhost:8080/"
        },
        "id": "w_EwYBMmkK54",
        "outputId": "bcdddcdd-7b9f-4374-9115-fbb5f8d23af1"
      },
      "execution_count": null,
      "outputs": [
        {
          "output_type": "stream",
          "name": "stdout",
          "text": [
            "Epoch 1/200\n",
            "137/137 [==============================] - 55s 100ms/step - loss: 0.4109 - accuracy: 0.8186 - val_loss: 0.3951 - val_accuracy: 0.8186\n",
            "Epoch 2/200\n",
            "137/137 [==============================] - 12s 87ms/step - loss: 0.3495 - accuracy: 0.8490 - val_loss: 0.3349 - val_accuracy: 0.8289\n",
            "Epoch 3/200\n",
            "137/137 [==============================] - 11s 81ms/step - loss: 0.3021 - accuracy: 0.8706 - val_loss: 0.3081 - val_accuracy: 0.8495\n",
            "Epoch 4/200\n",
            "137/137 [==============================] - 10s 75ms/step - loss: 0.2694 - accuracy: 0.8864 - val_loss: 0.2955 - val_accuracy: 0.8660\n",
            "Epoch 5/200\n",
            "137/137 [==============================] - 12s 84ms/step - loss: 0.2419 - accuracy: 0.8992 - val_loss: 0.3060 - val_accuracy: 0.8639\n",
            "Epoch 6/200\n",
            "137/137 [==============================] - 11s 77ms/step - loss: 0.2168 - accuracy: 0.9116 - val_loss: 0.2743 - val_accuracy: 0.8784\n",
            "Epoch 7/200\n",
            "137/137 [==============================] - 11s 83ms/step - loss: 0.1949 - accuracy: 0.9219 - val_loss: 0.2681 - val_accuracy: 0.8763\n",
            "Epoch 8/200\n",
            "137/137 [==============================] - 13s 93ms/step - loss: 0.1613 - accuracy: 0.9400 - val_loss: 0.2763 - val_accuracy: 0.8887\n",
            "Epoch 9/200\n",
            "137/137 [==============================] - 13s 93ms/step - loss: 0.1466 - accuracy: 0.9459 - val_loss: 0.2891 - val_accuracy: 0.8742\n",
            "Epoch 10/200\n",
            "137/137 [==============================] - 10s 76ms/step - loss: 0.1249 - accuracy: 0.9535 - val_loss: 0.2721 - val_accuracy: 0.8928\n",
            "Epoch 11/200\n",
            "137/137 [==============================] - 12s 84ms/step - loss: 0.1147 - accuracy: 0.9569 - val_loss: 0.2876 - val_accuracy: 0.8866\n",
            "Epoch 12/200\n",
            "137/137 [==============================] - 10s 76ms/step - loss: 0.0945 - accuracy: 0.9679 - val_loss: 0.2811 - val_accuracy: 0.8928\n",
            "Epoch 13/200\n",
            "137/137 [==============================] - 11s 83ms/step - loss: 0.0844 - accuracy: 0.9695 - val_loss: 0.2858 - val_accuracy: 0.8969\n",
            "Epoch 14/200\n",
            "137/137 [==============================] - 12s 85ms/step - loss: 0.0773 - accuracy: 0.9739 - val_loss: 0.2946 - val_accuracy: 0.8928\n",
            "Epoch 15/200\n",
            "137/137 [==============================] - 10s 75ms/step - loss: 0.0666 - accuracy: 0.9780 - val_loss: 0.2849 - val_accuracy: 0.9010\n",
            "Epoch 16/200\n",
            "137/137 [==============================] - 11s 84ms/step - loss: 0.0531 - accuracy: 0.9842 - val_loss: 0.3093 - val_accuracy: 0.8887\n",
            "Epoch 17/200\n",
            "137/137 [==============================] - 12s 85ms/step - loss: 0.0546 - accuracy: 0.9808 - val_loss: 0.3092 - val_accuracy: 0.8969\n",
            "Epoch 18/200\n",
            "137/137 [==============================] - 10s 75ms/step - loss: 0.0510 - accuracy: 0.9833 - val_loss: 0.3236 - val_accuracy: 0.8969\n",
            "Epoch 19/200\n",
            "137/137 [==============================] - 12s 85ms/step - loss: 0.0404 - accuracy: 0.9881 - val_loss: 0.3186 - val_accuracy: 0.9010\n",
            "Epoch 20/200\n",
            "137/137 [==============================] - 11s 80ms/step - loss: 0.0402 - accuracy: 0.9851 - val_loss: 0.3337 - val_accuracy: 0.9031\n",
            "Epoch 21/200\n",
            "137/137 [==============================] - 10s 75ms/step - loss: 0.0310 - accuracy: 0.9913 - val_loss: 0.3402 - val_accuracy: 0.9031\n",
            "Epoch 22/200\n",
            "137/137 [==============================] - 12s 88ms/step - loss: 0.0313 - accuracy: 0.9913 - val_loss: 0.3699 - val_accuracy: 0.8990\n",
            "Epoch 23/200\n",
            "137/137 [==============================] - 11s 79ms/step - loss: 0.0243 - accuracy: 0.9929 - val_loss: 0.3675 - val_accuracy: 0.8990\n",
            "Epoch 24/200\n",
            "137/137 [==============================] - 11s 78ms/step - loss: 0.0287 - accuracy: 0.9908 - val_loss: 0.3694 - val_accuracy: 0.9010\n",
            "Epoch 25/200\n",
            "137/137 [==============================] - 12s 85ms/step - loss: 0.0237 - accuracy: 0.9929 - val_loss: 0.3851 - val_accuracy: 0.8990\n",
            "Epoch 26/200\n",
            "137/137 [==============================] - 10s 76ms/step - loss: 0.0185 - accuracy: 0.9947 - val_loss: 0.3644 - val_accuracy: 0.9072\n",
            "Epoch 27/200\n",
            "137/137 [==============================] - 11s 83ms/step - loss: 0.0210 - accuracy: 0.9920 - val_loss: 0.3908 - val_accuracy: 0.9072\n"
          ]
        },
        {
          "output_type": "execute_result",
          "data": {
            "text/plain": [
              "<keras.src.callbacks.History at 0x7d51fc6a44f0>"
            ]
          },
          "metadata": {},
          "execution_count": 70
        }
      ]
    },
    {
      "cell_type": "code",
      "source": [
        "ft_model.save('/gdrive/My Drive/TransferLearningModel_M')"
      ],
      "metadata": {
        "id": "g08nxRdRimDJ"
      },
      "execution_count": null,
      "outputs": []
    },
    {
      "cell_type": "code",
      "source": [
        "\n",
        "\n",
        "# preprocessing = tf.keras.Sequential([\n",
        "#            tfkl.RandomTranslation(0.2,0.2),\n",
        "#            tfkl.RandomZoom(0.2),\n",
        "#            tfkl.RandomRotation(0.2),\n",
        "#            tfkl.RandomFlip(\"horizontal_and_vertical\")\n",
        "#        ])\n",
        "#    aug_images = [preprocessing(X[i]) for i in range(X.shape[0])]\n",
        "#    print(len(aug_images))\n",
        "#    data = np.concatenate((data, aug_images), axis=0)\n",
        "#    labels = np.concatenate((labels, labels), axis=0)\n",
        "#    return aug_images, labels\n",
        "#"
      ],
      "metadata": {
        "id": "Nlgf97LpiMKH"
      },
      "execution_count": null,
      "outputs": []
    },
    {
      "cell_type": "markdown",
      "source": [
        "### Da non rifare perchè nel modello bello non si runnava questo ma ci si fermava prima"
      ],
      "metadata": {
        "id": "mMnBStg0fyRS"
      }
    },
    {
      "cell_type": "code",
      "source": [
        "ft_model = tfk.models.load_model('/gdrive/My Drive/TransferLearningModel3')"
      ],
      "metadata": {
        "id": "8lQ7ToCXZcfr"
      },
      "execution_count": null,
      "outputs": []
    },
    {
      "cell_type": "code",
      "source": [
        "# Freeze first N layers, e.g., until the 133rd one\n",
        "N = 133\n",
        "for i, layer in enumerate(ft_model.get_layer('efficientnetv2-b2').layers[N:]):\n",
        "  layer.trainable=True\n",
        "for layer in ft_model.get_layer('efficientnetv2-b2').layers:\n",
        "  print(layer)\n",
        " # if layer.__class__.__name__ == 'BatchNormalization':\n",
        "  #  layer.trainable = False\n",
        "# for i, layer in enumerate(ft_model.get_layer('mobilenetv2_1.00_96').layers):\n",
        "#    #print(i, layer.name, layer.trainable)\n",
        "ft_model.summary()\n",
        "\n",
        "ft_model.compile(loss=tfk.losses.BinaryCrossentropy(), optimizer=tfk.optimizers.Adam(), metrics='accuracy') #messo categorical al posto di binary\n",
        "\n",
        "# Fine-tune the model\n",
        "ft_history = ft_model.fit(\n",
        "    x = preprocess_input(X_train*255), # We need to apply the preprocessing thought for the MobileNetV2 network,tolto il 255\n",
        "    y = y_train_B,\n",
        "    batch_size = 16,\n",
        "    epochs = 200,\n",
        "    validation_data = (preprocess_input(X_val*255), y_val_B), # We need to apply the preprocessing thought for the MobileNetV2 network tolto il 255\n",
        "    callbacks = [tfk.callbacks.EarlyStopping(monitor='val_accuracy', mode='max', patience=20, restore_best_weights=True)]\n",
        ").history\n",
        "\n",
        "ft_model.save('TransferLearningModel33')"
      ],
      "metadata": {
        "id": "g1V5gn7YqIc9"
      },
      "execution_count": null,
      "outputs": []
    },
    {
      "cell_type": "code",
      "source": [
        "ft_model.evaluate(X_val, y_val_B)"
      ],
      "metadata": {
        "id": "UVVud9lZ3ReW"
      },
      "execution_count": null,
      "outputs": []
    },
    {
      "cell_type": "markdown",
      "source": [
        "#model 6"
      ],
      "metadata": {
        "id": "xBfQ5HhkwHYz"
      }
    },
    {
      "cell_type": "code",
      "source": [
        "import tensorflow as tf\n",
        "from tensorflow.keras.applications import EfficientNetV2\n",
        "from tensorflow.keras import layers, models\n",
        "\n",
        "# Load the EfficientNetV2 model with ImageNet weights\n",
        "base_model = EfficientNetV2(\n",
        "    include_top=False,\n",
        "    weights=\"imagenet\",\n",
        "    input_tensor=None,\n",
        "    input_shape=(224, 224, 3),  # Adjust input shape based on your requirements\n",
        "    pooling=None,\n",
        "    classes=1000,\n",
        "    classifier_activation=\"softmax\",\n",
        "    include_preprocessing=True,\n",
        ")\n",
        "\n",
        "# Freeze the pre-trained layers\n",
        "base_model.trainable = False\n",
        "\n",
        "# Create a new model with a custom top layer for binary classification\n",
        "model = models.Sequential([\n",
        "    base_model,\n",
        "    layers.GlobalAveragePooling2D(),\n",
        "    layers.Dense(1, activation='sigmoid')  # Binary classification with sigmoid activation\n",
        "])\n",
        "\n",
        "# Compile the model\n",
        "model.compile(optimizer='adam', loss='binary_crossentropy', metrics=['accuracy'])\n",
        "\n",
        "# Print the model summary\n",
        "model.summary()"
      ],
      "metadata": {
        "id": "C3H9LjfLwIpD"
      },
      "execution_count": null,
      "outputs": []
    }
  ]
}